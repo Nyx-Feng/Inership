{
 "cells": [
  {
   "cell_type": "markdown",
   "id": "778ee282",
   "metadata": {},
   "source": [
    "## 小批量梯度下降法（MNGB）\n",
    "它结合了随机梯度下降（SGD）和批量梯度（BGD）下降的概念。 它只是将训练数据集拆分成小批量，并为每个批次执行更新。 因此，它在随机梯度下降的稳健性和批量梯度下降的效率之间创造了平衡。\n",
    "包括随机抽样和遍历两种方法，在本笔记中使用随机抽样的方法计算。"
   ]
  },
  {
   "cell_type": "markdown",
   "id": "c34f7d62",
   "metadata": {},
   "source": [
    "### 根据$Y=\\beta_{0}+\\beta_{1}X+\\varepsilon $生成线性回归数据"
   ]
  },
  {
   "cell_type": "code",
   "execution_count": 1,
   "id": "798857ae",
   "metadata": {},
   "outputs": [],
   "source": [
    "import numpy as np\n",
    "import pandas as pd\n",
    "import matplotlib as mpl\n"
   ]
  },
  {
   "cell_type": "code",
   "execution_count": 2,
   "id": "e129aebe",
   "metadata": {},
   "outputs": [],
   "source": [
    "def Beta(X,b):#X为X向量，b为β向量\n",
    "    X = np.vstack((1,X.reshape(len(X),1)))\n",
    "    Y = np.dot(b.reshape(1,len(X)),X)\n",
    "    return Y[0][0]"
   ]
  },
  {
   "cell_type": "code",
   "execution_count": 3,
   "id": "ee5e1982",
   "metadata": {},
   "outputs": [],
   "source": [
    "def random_reg(beta_range,x_num,n,x_range,seed,var_epsilon = 1):#生成线性回归数据\n",
    "    np.random.seed(seed)\n",
    "    beta = np.random.uniform(beta_range[0],beta_range[1],x_num+1)\n",
    "    np.random.seed(seed)\n",
    "    x = np.random.uniform(x_range[0],x_range[1],x_num*n)\n",
    "    x = x.reshape(x_num, n)\n",
    "    Y = []\n",
    "    for i in range(n):\n",
    "        X = np.array([x[0:,i]]).reshape(x_num, 1)\n",
    "        Y.append(Beta(X, beta))\n",
    "    np.random.seed(seed)\n",
    "    epsilon = np.random.normal(0, var_epsilon, n)\n",
    "    Y = Y + epsilon\n",
    "    return {\"beta\":beta, \"x\":x, \"Y\":Y}"
   ]
  },
  {
   "cell_type": "code",
   "execution_count": 5,
   "id": "709611a9",
   "metadata": {},
   "outputs": [],
   "source": [
    "x = random_reg([-5,5], 4, 3200, [0,100], 313,0.01)['x']\n",
    "beta = random_reg([-5,5], 4, 3200, [0,100], 313,0.01)['beta']\n",
    "Y = random_reg([-5,5], 4, 3200, [0,100], 313,0.01)['Y']"
   ]
  },
  {
   "cell_type": "markdown",
   "id": "0beaf1d9",
   "metadata": {},
   "source": [
    "### 对数据进行分组，并每次随机抽取一组求导函数并进行迭代。"
   ]
  },
  {
   "cell_type": "code",
   "execution_count": 6,
   "id": "79d797c5",
   "metadata": {},
   "outputs": [],
   "source": [
    "def partical(x, beta_hat, Y):#βhat为估计的β向量\n",
    "    sum0 = []\n",
    "    k = len(x[0:,0])\n",
    "    n = len(x[0, 0:])\n",
    "    for i in range(n):\n",
    "        sum0.append(Beta(x[0:,i],beta_hat) - Y[i])\n",
    "    vector0 = sum(sum0)\n",
    "    vector = []\n",
    "    for j in range(k):\n",
    "        vector.append(sum(np.asarray(sum0) * x[j,0:]))\n",
    "    vector = 2/n * np.hstack((vector0,vector))\n",
    "    return vector"
   ]
  },
  {
   "cell_type": "code",
   "execution_count": 7,
   "id": "e26c1ed6",
   "metadata": {},
   "outputs": [],
   "source": [
    "def mngb(x, Y, mini_batch, origin, accuracy, alpha,times_num = 1000000):\n",
    "    col = np.random.randint(len(x[0, 0:]), size = mini_batch)\n",
    "    x0 = x[0: , col]\n",
    "    Y0 = Y[col]\n",
    "    theta = origin - alpha * partical(x0, origin, Y0)\n",
    "    delta = accuracy +1\n",
    "    times = 0\n",
    "    while delta >= accuracy:\n",
    "        times += 1\n",
    "        col = np.random.randint(len(x[0, 0:]), size = mini_batch)\n",
    "        x0 = x[0: , col]\n",
    "        Y0 = Y[col]\n",
    "        theta = theta - alpha * partical(x0, theta, Y0)\n",
    "        delta = alpha * abs(max(partical(x0, theta, Y0)))\n",
    "        if times >= times_num: break\n",
    "    return theta"
   ]
  },
  {
   "cell_type": "code",
   "execution_count": 8,
   "id": "d5109768",
   "metadata": {},
   "outputs": [
    {
     "data": {
      "text/plain": [
       "array([0.0218847 , 0.4984558 , 3.59308105, 1.18748774, 4.41042047])"
      ]
     },
     "execution_count": 8,
     "metadata": {},
     "output_type": "execute_result"
    }
   ],
   "source": [
    "mngb(x, Y, 4, np.array([0, 0, 0, 0, 0]), 1e-6, 1e-5, 1000000)"
   ]
  },
  {
   "cell_type": "code",
   "execution_count": 9,
   "id": "d5672a9a",
   "metadata": {},
   "outputs": [
    {
     "data": {
      "text/plain": [
       "array([-3.34460376,  0.50104366,  3.60871802,  1.17933724,  4.46246387])"
      ]
     },
     "execution_count": 9,
     "metadata": {},
     "output_type": "execute_result"
    }
   ],
   "source": [
    "beta"
   ]
  }
 ],
 "metadata": {
  "kernelspec": {
   "display_name": "Python 3 (ipykernel)",
   "language": "python",
   "name": "python3"
  },
  "language_info": {
   "codemirror_mode": {
    "name": "ipython",
    "version": 3
   },
   "file_extension": ".py",
   "mimetype": "text/x-python",
   "name": "python",
   "nbconvert_exporter": "python",
   "pygments_lexer": "ipython3",
   "version": "3.9.12"
  }
 },
 "nbformat": 4,
 "nbformat_minor": 5
}
