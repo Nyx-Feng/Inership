{
 "cells": [
  {
   "cell_type": "code",
   "execution_count": 1,
   "id": "f905675d",
   "metadata": {},
   "outputs": [],
   "source": [
    "import torch\n",
    "import pandas as pd\n",
    "import numpy as np\n",
    "import matplotlib.pyplot as plt\n",
    "from torch import nn\n",
    "import torch.nn.functional as F\n",
    "from torch.utils.data import TensorDataset\n",
    "from torch.utils.data import DataLoader\n",
    "from sklearn.model_selection import train_test_split\n",
    "import torchvision\n",
    "from torchvision import datasets, transforms\n",
    "from torchvision.datasets import MNIST\n",
    "%matplotlib inline"
   ]
  },
  {
   "cell_type": "markdown",
   "id": "499d50ca",
   "metadata": {},
   "source": [
    "## 简单神经网络例子\n",
    "### 模拟数据并给定初始参数"
   ]
  },
  {
   "cell_type": "code",
   "execution_count": 3,
   "id": "2107c9f8",
   "metadata": {},
   "outputs": [],
   "source": [
    "batch_n = 100#一个批次输入数据的数量\n",
    "hidden_layer = 100\n",
    "input_data = 1000#每个数据的特征为1000\n",
    "output_data = 10"
   ]
  },
  {
   "cell_type": "code",
   "execution_count": 4,
   "id": "67058f14",
   "metadata": {},
   "outputs": [],
   "source": [
    "x = torch.randn(batch_n,input_data)#X=100（样本数）·1000（输入特征数）\n",
    "y = torch.randn(batch_n,output_data)#Y=100（样本数）·10（输出特征数）\n",
    "w1 = torch.randn(input_data,hidden_layer)#W1=1000（因素特征数）·100（隐藏层特征数）\n",
    "w2 = torch.randn(hidden_layer,output_data)#W2=100（隐藏层特征数）·10（输出特征数）"
   ]
  },
  {
   "cell_type": "code",
   "execution_count": 5,
   "id": "b8df24e7",
   "metadata": {},
   "outputs": [],
   "source": [
    "epoch_n = 20#学习次数\n",
    "lr = 1e-6#学习效率"
   ]
  },
  {
   "cell_type": "markdown",
   "id": "eaff4449",
   "metadata": {},
   "source": [
    "### 学习流程\n",
    "#### 预测Y"
   ]
  },
  {
   "cell_type": "markdown",
   "id": "40d068fe",
   "metadata": {},
   "source": [
    "$H_{1} = clamp(XW_{1})$（clamp为去掉负数，最小为0）（隐藏层特征）"
   ]
  },
  {
   "cell_type": "markdown",
   "id": "f489c0b9",
   "metadata": {},
   "source": [
    "$Y_{pred}=H_{1}W_{2}$（输出层特征）"
   ]
  },
  {
   "cell_type": "markdown",
   "id": "b3a1bc0f",
   "metadata": {},
   "source": [
    "#### 评估"
   ]
  },
  {
   "cell_type": "markdown",
   "id": "d2b93988",
   "metadata": {},
   "source": [
    "$loss=\\sum_{n=1}^{100}\\sum_{i=1}^{10} (y_{pred}-y)^2 $（损失函数）"
   ]
  },
  {
   "cell_type": "markdown",
   "id": "65e27683",
   "metadata": {},
   "source": [
    "#### 学习回推"
   ]
  },
  {
   "cell_type": "markdown",
   "id": "a10f572b",
   "metadata": {},
   "source": [
    "$gradY_{pred}=2(Y-Y_{pred})即(\\Delta Y)$"
   ]
  },
  {
   "cell_type": "markdown",
   "id": "eb7a8efe",
   "metadata": {},
   "source": [
    "$gradW_{2}=H_{1}^TgradY_{pred}即由gradY_{pred}=H_{1}gradW_{2}算出gradW_{2}(\\Delta W_{2})$"
   ]
  },
  {
   "cell_type": "markdown",
   "id": "30536cd4",
   "metadata": {},
   "source": [
    "$gradH_{1}=gradY_{pred}W_{2}^T既由gradY_{pred}=gradH_{1}W_{2}算出gradH_{1}(\\Delta H_{1})$"
   ]
  },
  {
   "cell_type": "markdown",
   "id": "d3cd3b4d",
   "metadata": {},
   "source": [
    "$gradW_{1}=X^TgradH_{1}即由gradH_{1}=XgradW_{1}算出gradW_{1}(\\Delta W_{1})$"
   ]
  },
  {
   "cell_type": "markdown",
   "id": "f0bffb41",
   "metadata": {},
   "source": [
    "更新参数：$W_{1}=W_{1}-\\alpha\\Delta W_{1},W_{2}=W_{2}-\\alpha\\Delta W_{2}$"
   ]
  },
  {
   "cell_type": "code",
   "execution_count": 6,
   "id": "cb47ebc9",
   "metadata": {},
   "outputs": [
    {
     "name": "stdout",
     "output_type": "stream",
     "text": [
      "torch.Size([100, 100])\n",
      "epoch:0,loss:40630492.0000\n",
      "torch.Size([100, 100])\n",
      "epoch:1,loss:66367148.0000\n",
      "torch.Size([100, 100])\n",
      "epoch:2,loss:199418912.0000\n",
      "torch.Size([100, 100])\n",
      "epoch:3,loss:463755552.0000\n",
      "torch.Size([100, 100])\n",
      "epoch:4,loss:238250192.0000\n",
      "torch.Size([100, 100])\n",
      "epoch:5,loss:3862877.0000\n",
      "torch.Size([100, 100])\n",
      "epoch:6,loss:2828448.0000\n",
      "torch.Size([100, 100])\n",
      "epoch:7,loss:2365580.7500\n",
      "torch.Size([100, 100])\n",
      "epoch:8,loss:2089149.0000\n",
      "torch.Size([100, 100])\n",
      "epoch:9,loss:1885532.1250\n",
      "torch.Size([100, 100])\n",
      "epoch:10,loss:1718925.0000\n",
      "torch.Size([100, 100])\n",
      "epoch:11,loss:1576648.2500\n",
      "torch.Size([100, 100])\n",
      "epoch:12,loss:1453304.5000\n",
      "torch.Size([100, 100])\n",
      "epoch:13,loss:1344403.5000\n",
      "torch.Size([100, 100])\n",
      "epoch:14,loss:1247530.8750\n",
      "torch.Size([100, 100])\n",
      "epoch:15,loss:1160873.1250\n",
      "torch.Size([100, 100])\n",
      "epoch:16,loss:1083018.0000\n",
      "torch.Size([100, 100])\n",
      "epoch:17,loss:1013092.4375\n",
      "torch.Size([100, 100])\n",
      "epoch:18,loss:950236.7500\n",
      "torch.Size([100, 100])\n",
      "epoch:19,loss:893275.0000\n"
     ]
    }
   ],
   "source": [
    "for epoch in range(epoch_n):\n",
    "    h1=x.mm(w1)#(100,1000)*(1000,100)-->100*100\n",
    "    print(h1.shape)\n",
    "    h1=h1.clamp(min=0)\n",
    "    y_pred = h1.mm(w2)\n",
    "    \n",
    "    loss = (y_pred-y).pow(2).sum()\n",
    "    print(\"epoch:{},loss:{:.4f}\".format(epoch,loss))\n",
    "    \n",
    "    grad_y_pred = 2*(y_pred-y)\n",
    "    grad_w2 = h1.t().mm(grad_y_pred)\n",
    "    \n",
    "    grad_h = grad_y_pred.clone()\n",
    "    grad_h = grad_h.mm(w2.t())\n",
    "    grad_h.clamp_(min=0)#将小于0的值全部赋值为0，相当于sigmoid\n",
    "    grad_w1 = x.t().mm(grad_h)\n",
    "    \n",
    "    w1 = w1 -lr*grad_w1\n",
    "    w2 = w2 -lr*grad_w2"
   ]
  },
  {
   "cell_type": "markdown",
   "id": "41c7ed8c",
   "metadata": {},
   "source": [
    "## MNIST数据集进行神经网络的机器学习\n",
    "### 一、MNIST数据集\n",
    "#### 下载MNIST数据集"
   ]
  },
  {
   "cell_type": "code",
   "execution_count": 7,
   "id": "d2c284a0",
   "metadata": {},
   "outputs": [],
   "source": [
    "from torchvision.datasets import MNIST\n",
    "mnist_train = MNIST(root=\"/MNIST_data\", train=True, download=True, transform=None)\n",
    "#root表示下载路径，训练模式取训练集，是否下载：是"
   ]
  },
  {
   "cell_type": "markdown",
   "id": "897767a3",
   "metadata": {},
   "source": [
    "#### 展示图片"
   ]
  },
  {
   "cell_type": "code",
   "execution_count": 8,
   "id": "a45df549",
   "metadata": {},
   "outputs": [],
   "source": [
    "import matplotlib.pyplot as plt#安装matlab库并导入matplotlib.pyplot"
   ]
  },
  {
   "cell_type": "code",
   "execution_count": 9,
   "id": "c8825ece",
   "metadata": {},
   "outputs": [
    {
     "name": "stdout",
     "output_type": "stream",
     "text": [
      "60000\n",
      "(<PIL.Image.Image image mode=L size=28x28 at 0x16B35D86550>, 5)\n"
     ]
    }
   ],
   "source": [
    "print(len(mnist_train))#len表示求它的长度，训练集有10000张\n",
    "print(mnist_train[0])#返回结果有两部分，一部分是PIL图像，另一部分是图片的标签标签为5，就表示这个数字是5"
   ]
  },
  {
   "cell_type": "code",
   "execution_count": 10,
   "id": "7360018d",
   "metadata": {},
   "outputs": [
    {
     "data": {
      "image/png": "[encoded data removed]",
      "text/plain": [
       "<Figure size 432x288 with 1 Axes>"
      ]
     },
     "metadata": {
      "needs_background": "light"
     },
     "output_type": "display_data"
    },
    {
     "name": "stdout",
     "output_type": "stream",
     "text": [
      "5\n"
     ]
    }
   ],
   "source": [
    "image = mnist_train[0][0]#取出具体的一张图片\n",
    "plt.imshow(image)\n",
    "plt.show()#把图片展示出来\n",
    "print(mnist_train[0][1])#把图片的标签打印出来"
   ]
  },
  {
   "cell_type": "markdown",
   "id": "30ddd17c",
   "metadata": {},
   "source": [
    "### 二、数据加载"
   ]
  },
  {
   "cell_type": "code",
   "execution_count": 11,
   "id": "39d077f8",
   "metadata": {},
   "outputs": [
    {
     "name": "stdout",
     "output_type": "stream",
     "text": [
      "<torch.utils.data.dataloader.DataLoader object at 0x0000016B35E89E20>\n"
     ]
    }
   ],
   "source": [
    "from torch.utils.data import DataLoader#导入数据加载器\n",
    "dataloader = DataLoader(mnist_train, batch_size=1, shuffle=True)#实例化一个类，传入把训练集，batch_size设为2，shuffle设为true打乱\n",
    "print(dataloader)#打印一下"
   ]
  },
  {
   "cell_type": "markdown",
   "id": "5a5f9801",
   "metadata": {},
   "source": [
    "### 三、transforms图像处理\n",
    "图像在PIL中不是张量tensor，需要进行转换，并且转换后的格式顺序与cuda、cudnn的函数中默认的格式顺序不一样，需要经过转换才能输出图片或者处理图片"
   ]
  },
  {
   "cell_type": "code",
   "execution_count": 12,
   "id": "c71bbc04",
   "metadata": {},
   "outputs": [
    {
     "name": "stdout",
     "output_type": "stream",
     "text": [
      "torch.Size([1, 1, 28, 28])\n"
     ]
    }
   ],
   "source": [
    "from torchvision import transforms#导入transforms方法\n",
    "mnist_train = MNIST(root=\"/MNIST_data\", train=True, download=True, transform=transforms.ToTensor())\n",
    "#将MNIST数据集中transform改为transforms.ToTensor()\n",
    "dataloader = DataLoader(mnist_train, batch_size=1, shuffle=True)#此时，将PIL图像转换成了张量形式\n",
    "for (images, labels) in dataloader:\n",
    "    print(images.shape)\n",
    "    break#打印一次后退出"
   ]
  },
  {
   "cell_type": "markdown",
   "id": "c605609a",
   "metadata": {},
   "source": [
    "这里第一个“1”表1 batch_size,即一次加载一张图片\n",
    "第二个“1”表示通道数，后边两个“28”分别表示图片的高和宽"
   ]
  },
  {
   "cell_type": "code",
   "execution_count": 13,
   "id": "4216c119",
   "metadata": {},
   "outputs": [
    {
     "name": "stdout",
     "output_type": "stream",
     "text": [
      "torch.Size([3, 28, 28])\n"
     ]
    }
   ],
   "source": [
    "#使用make_grid方法将两张图片融合\n",
    "from torchvision.utils import make_grid##即使一张图片我们也要将它融合一下，使用make_grid方法\n",
    "my_transforms = transforms.Compose([transforms.PILToTensor()])\n",
    "#将多个transforms组合在一起，还可以加入标准化等图像处理\n",
    "mnist_train = MNIST(root=\"/MNIST_data\", train=True, download=True, transform=transforms.ToTensor())\n",
    "dataloader = DataLoader(mnist_train, batch_size=1, shuffle=True)\n",
    "for (images, labels) in dataloader:\n",
    "    print(make_grid(images).shape)\n",
    "    break#打印一次后退出"
   ]
  },
  {
   "cell_type": "markdown",
   "id": "ad8662b8",
   "metadata": {},
   "source": [
    "## 全连接层"
   ]
  },
  {
   "cell_type": "markdown",
   "id": "e7b514ae",
   "metadata": {},
   "source": [
    "### 1.载入数据集并定义加载器"
   ]
  },
  {
   "cell_type": "code",
   "execution_count": 48,
   "id": "60f45a6c",
   "metadata": {},
   "outputs": [],
   "source": [
    "transformation = transforms.Compose([\n",
    "    transforms.ToTensor(),       ## 转化为一个tensor， 转换到0-1之间, 将channnel放在第一维\n",
    "])\n",
    "train_ds = torchvision.datasets.MNIST(root=\"dataset\", train=True, transform=torchvision.transforms.ToTensor(), download=True)\n",
    "test_ds = torchvision.datasets.MNIST(root=\"dataset\", train=False, transform=torchvision.transforms.ToTensor(), download=True)\n",
    "train_dl = DataLoader(train_ds, batch_size = 64, shuffle = True)\n",
    "test_dl = DataLoader(test_ds, batch_size = 256)"
   ]
  },
  {
   "cell_type": "markdown",
   "id": "f2039102",
   "metadata": {},
   "source": [
    "### 2.定义模型"
   ]
  },
  {
   "cell_type": "code",
   "execution_count": 49,
   "id": "a097940c",
   "metadata": {},
   "outputs": [],
   "source": [
    "class Model(nn.Module):\n",
    "    def __init__(self):\n",
    "        super(Model, self).__init__()\n",
    "        self.conv_module = nn.Sequential(\n",
    "        nn.Linear(1*28*28, 183),\n",
    "        nn.ReLU(),\n",
    "        nn.Linear(183,43),\n",
    "        nn.ReLU(),\n",
    "        nn.Linear(43,10)\n",
    "        )\n",
    "    def forward(self, x):\n",
    "        x = x.view(-1, 28*28)\n",
    "        x = self.conv_module(x)\n",
    "        return x"
   ]
  },
  {
   "cell_type": "markdown",
   "id": "7c77c92f",
   "metadata": {},
   "source": [
    "### 3.定义损失函数"
   ]
  },
  {
   "cell_type": "code",
   "execution_count": 50,
   "id": "251ccbd7",
   "metadata": {},
   "outputs": [],
   "source": [
    "loss_func = torch.nn.CrossEntropyLoss()\n",
    "loss_func = loss_func.cuda()"
   ]
  },
  {
   "cell_type": "markdown",
   "id": "4f56e10a",
   "metadata": {},
   "source": [
    "### 4.定义优化模型过程"
   ]
  },
  {
   "cell_type": "code",
   "execution_count": 51,
   "id": "94d7f374",
   "metadata": {},
   "outputs": [],
   "source": [
    "def fit(epoch, model, trainloader, testloader):\n",
    "    correct = 0\n",
    "    total = 0\n",
    "    running_loss = 0\n",
    "    for x, y in trainloader:\n",
    "        x = x.cuda()\n",
    "        y = y.cuda()\n",
    "        y_pred = model(x)\n",
    "        loss = loss_func(y_pred, y)\n",
    "        optimizer.zero_grad()\n",
    "        loss.backward()\n",
    "        optimizer.step()\n",
    "        with torch.no_grad():\n",
    "            y_pred = torch.argmax(y_pred, dim = 1)\n",
    "            correct += (y_pred == y).sum().item()\n",
    "            total += y.size(0)\n",
    "            running_loss += loss.item()\n",
    "    epoch_acc = correct / total\n",
    "    epoch_loss = running_loss / len(trainloader.dataset)\n",
    "    \n",
    "    test_correct = 0\n",
    "    test_total = 0\n",
    "    test_running_loss = 0\n",
    "    \n",
    "    with torch.no_grad():\n",
    "        for x, y in testloader:\n",
    "            x = x.cuda()\n",
    "            y = y.cuda()\n",
    "            y_pred = model(x)\n",
    "            loss = loss_func(y_pred, y)\n",
    "            y_pred = torch.argmax(y_pred, dim = 1)\n",
    "            test_correct += (y_pred == y).sum().item()\n",
    "            test_total += y.size(0)\n",
    "            test_running_loss += loss.item()\n",
    "    epoch_test_acc = test_correct / test_total\n",
    "    epoch_test_loss = test_running_loss / len(testloader.dataset)\n",
    "    \n",
    "    print('epoch: ', epoch, \n",
    "          'loss: ', round(epoch_loss, 3),\n",
    "          'accuracy: ', round(epoch_acc, 3),\n",
    "          'test_loss: ', round(epoch_test_loss, 3),\n",
    "          'test_accuracy: ', round(epoch_test_acc, 3))\n",
    "    \n",
    "    return epoch_loss, epoch_acc, epoch_test_loss, epoch_test_acc"
   ]
  },
  {
   "cell_type": "markdown",
   "id": "5a48a764",
   "metadata": {},
   "source": [
    "### 5.训练模型并展示预测效果"
   ]
  },
  {
   "cell_type": "code",
   "execution_count": 52,
   "id": "f3c112b2",
   "metadata": {},
   "outputs": [
    {
     "name": "stdout",
     "output_type": "stream",
     "text": [
      "epoch:  0 loss:  0.005 accuracy:  0.907 test_loss:  0.001 test_accuracy:  0.953\n",
      "epoch:  1 loss:  0.002 accuracy:  0.962 test_loss:  0.0 test_accuracy:  0.967\n",
      "epoch:  2 loss:  0.001 accuracy:  0.974 test_loss:  0.0 test_accuracy:  0.974\n",
      "epoch:  3 loss:  0.001 accuracy:  0.981 test_loss:  0.0 test_accuracy:  0.976\n",
      "epoch:  4 loss:  0.001 accuracy:  0.984 test_loss:  0.0 test_accuracy:  0.98\n",
      "epoch:  5 loss:  0.001 accuracy:  0.988 test_loss:  0.0 test_accuracy:  0.977\n",
      "epoch:  6 loss:  0.001 accuracy:  0.99 test_loss:  0.0 test_accuracy:  0.977\n",
      "epoch:  7 loss:  0.0 accuracy:  0.992 test_loss:  0.0 test_accuracy:  0.975\n",
      "epoch:  8 loss:  0.0 accuracy:  0.993 test_loss:  0.0 test_accuracy:  0.975\n",
      "epoch:  9 loss:  0.0 accuracy:  0.994 test_loss:  0.0 test_accuracy:  0.98\n",
      "epoch:  10 loss:  0.0 accuracy:  0.995 test_loss:  0.0 test_accuracy:  0.981\n",
      "epoch:  11 loss:  0.0 accuracy:  0.996 test_loss:  0.0 test_accuracy:  0.977\n",
      "epoch:  12 loss:  0.0 accuracy:  0.996 test_loss:  0.0 test_accuracy:  0.979\n",
      "epoch:  13 loss:  0.0 accuracy:  0.996 test_loss:  0.0 test_accuracy:  0.979\n",
      "epoch:  14 loss:  0.0 accuracy:  0.997 test_loss:  0.0 test_accuracy:  0.979\n",
      "epoch:  15 loss:  0.0 accuracy:  0.996 test_loss:  0.0 test_accuracy:  0.978\n",
      "epoch:  16 loss:  0.0 accuracy:  0.997 test_loss:  0.0 test_accuracy:  0.981\n",
      "epoch:  17 loss:  0.0 accuracy:  0.997 test_loss:  0.0 test_accuracy:  0.981\n",
      "epoch:  18 loss:  0.0 accuracy:  0.997 test_loss:  0.0 test_accuracy:  0.98\n",
      "epoch:  19 loss:  0.0 accuracy:  0.998 test_loss:  0.0 test_accuracy:  0.979\n"
     ]
    }
   ],
   "source": [
    "model = Model()\n",
    "model = model.cuda()\n",
    "optimizer = torch.optim.Adam(model.parameters(), lr = 0.001)\n",
    "epochs = 20\n",
    "train_loss = []\n",
    "train_acc = []\n",
    "test_loss = []\n",
    "test_acc = []\n",
    "for epoch in range(epochs):\n",
    "    epoch_loss, epoch_acc, epoch_test_loss, epoch_test_acc = fit(epoch, model, train_dl, test_dl)\n",
    "    train_loss.append(epoch_loss)\n",
    "    train_acc.append(epoch_acc)\n",
    "    test_loss.append(epoch_test_loss)\n",
    "    test_acc.append(epoch_test_acc)"
   ]
  },
  {
   "cell_type": "markdown",
   "id": "c41bdcdc",
   "metadata": {},
   "source": [
    "## CNN神经网络"
   ]
  },
  {
   "cell_type": "code",
   "execution_count": 111,
   "id": "40fdae40",
   "metadata": {},
   "outputs": [],
   "source": [
    "train_data = datasets.MNIST(root = \"datasets\", train = True, transform = transforms.ToTensor(), download = True)\n",
    "test_data = datasets.MNIST(root = \"datasets\", train = False, transform = transforms.ToTensor(), download = True)\n",
    "train_loader= DataLoader(train_data, batch_size = 32, shuffle = True)\n",
    "test_loader= DataLoader(train_data, batch_size = 256)"
   ]
  },
  {
   "cell_type": "code",
   "execution_count": 112,
   "id": "bcecd3f2",
   "metadata": {},
   "outputs": [],
   "source": [
    "class cnn_mod(nn.Module):\n",
    "    def __init__(self):\n",
    "        super(cnn_mod, self).__init__()\n",
    "        self.cnnmodel1 = nn.Sequential(\n",
    "            nn.Conv2d(1, 32, kernel_size = 5),\n",
    "            nn.ReLU(),\n",
    "            nn.MaxPool2d(3,2)\n",
    "        )\n",
    "        self.cnnmodel2 = nn.Sequential(\n",
    "            nn.Conv2d(32, 32, kernel_size = 5),\n",
    "            nn.ReLU(),\n",
    "            nn.MaxPool2d(3,2)\n",
    "        )\n",
    "        self.linearmodel = nn.Sequential(\n",
    "            nn.Linear(288, 100),\n",
    "            nn.ReLU(),\n",
    "            nn.Linear(100,10)\n",
    "        )\n",
    "    def forward(self, x):\n",
    "        x = self.cnnmodel1(x)\n",
    "        x = self.cnnmodel2(x)\n",
    "        x = x.view(-1, 288)\n",
    "        x = self.linearmodel(x)\n",
    "        return x"
   ]
  },
  {
   "cell_type": "code",
   "execution_count": 113,
   "id": "9e5ed7cf",
   "metadata": {},
   "outputs": [],
   "source": [
    "loss_func = torch.nn.CrossEntropyLoss()\n",
    "loss_func = loss_func.cuda()"
   ]
  },
  {
   "cell_type": "code",
   "execution_count": 114,
   "id": "8d2d5285",
   "metadata": {},
   "outputs": [],
   "source": [
    "def fit(epoch, model, trainloader, testloader):\n",
    "    correct = 0\n",
    "    total = 0\n",
    "    running_loss = 0\n",
    "    for x, y in trainloader:\n",
    "        x = x.cuda()\n",
    "        y = y.cuda()\n",
    "        y_pred = model(x)\n",
    "        loss = loss_func(y_pred, y)\n",
    "        optimizer.zero_grad()\n",
    "        loss.backward()\n",
    "        optimizer.step()\n",
    "        with torch.no_grad():\n",
    "            y_pred = torch.argmax(y_pred, dim = 1)\n",
    "            correct += (y_pred == y).sum().item()\n",
    "            total += y.size(0)\n",
    "            running_loss += loss.item()\n",
    "    epoch_acc = correct / total\n",
    "    epoch_loss = running_loss / len(trainloader.dataset)\n",
    "    \n",
    "    test_correct = 0\n",
    "    test_total = 0\n",
    "    test_running_loss = 0\n",
    "    \n",
    "    with torch.no_grad():\n",
    "        for x, y in testloader:\n",
    "            x = x.cuda()\n",
    "            y = y.cuda()\n",
    "            y_pred = model(x)\n",
    "            loss = loss_func(y_pred, y)\n",
    "            y_pred = torch.argmax(y_pred, dim = 1)\n",
    "            test_correct += (y_pred == y).sum().item()\n",
    "            test_total += y.size(0)\n",
    "            test_running_loss += loss.item()\n",
    "    epoch_test_acc = test_correct / test_total\n",
    "    epoch_test_loss = test_running_loss / len(testloader.dataset)\n",
    "    \n",
    "    print('epoch: ', epoch, \n",
    "          'loss: ', round(epoch_loss, 3),\n",
    "          'accuracy: ', round(epoch_acc, 3),\n",
    "          'test_loss: ', round(epoch_test_loss, 3),\n",
    "          'test_accuracy: ', round(epoch_test_acc, 3))\n",
    "    \n",
    "    return epoch_loss, epoch_acc, epoch_test_loss, epoch_test_acc"
   ]
  },
  {
   "cell_type": "code",
   "execution_count": 117,
   "id": "b32ca330",
   "metadata": {},
   "outputs": [
    {
     "name": "stdout",
     "output_type": "stream",
     "text": [
      "epoch:  0 loss:  0.005 accuracy:  0.948 test_loss:  0.0 test_accuracy:  0.983\n",
      "epoch:  1 loss:  0.002 accuracy:  0.983 test_loss:  0.0 test_accuracy:  0.989\n",
      "epoch:  2 loss:  0.001 accuracy:  0.988 test_loss:  0.0 test_accuracy:  0.992\n",
      "epoch:  3 loss:  0.001 accuracy:  0.991 test_loss:  0.0 test_accuracy:  0.991\n",
      "epoch:  4 loss:  0.001 accuracy:  0.992 test_loss:  0.0 test_accuracy:  0.995\n",
      "epoch:  5 loss:  0.001 accuracy:  0.994 test_loss:  0.0 test_accuracy:  0.996\n",
      "epoch:  6 loss:  0.001 accuracy:  0.994 test_loss:  0.0 test_accuracy:  0.997\n",
      "epoch:  7 loss:  0.001 accuracy:  0.994 test_loss:  0.0 test_accuracy:  0.994\n",
      "epoch:  8 loss:  0.0 accuracy:  0.996 test_loss:  0.0 test_accuracy:  0.997\n",
      "epoch:  9 loss:  0.0 accuracy:  0.996 test_loss:  0.0 test_accuracy:  0.998\n",
      "epoch:  10 loss:  0.0 accuracy:  0.996 test_loss:  0.0 test_accuracy:  0.996\n",
      "epoch:  11 loss:  0.0 accuracy:  0.997 test_loss:  0.0 test_accuracy:  0.997\n",
      "epoch:  12 loss:  0.0 accuracy:  0.997 test_loss:  0.0 test_accuracy:  0.999\n",
      "epoch:  13 loss:  0.0 accuracy:  0.997 test_loss:  0.0 test_accuracy:  0.998\n",
      "epoch:  14 loss:  0.0 accuracy:  0.997 test_loss:  0.0 test_accuracy:  0.999\n",
      "epoch:  15 loss:  0.0 accuracy:  0.997 test_loss:  0.0 test_accuracy:  0.998\n",
      "epoch:  16 loss:  0.0 accuracy:  0.998 test_loss:  0.0 test_accuracy:  0.999\n",
      "epoch:  17 loss:  0.0 accuracy:  0.997 test_loss:  0.0 test_accuracy:  0.998\n",
      "epoch:  18 loss:  0.0 accuracy:  0.998 test_loss:  0.0 test_accuracy:  0.999\n",
      "epoch:  19 loss:  0.0 accuracy:  0.998 test_loss:  0.0 test_accuracy:  0.998\n"
     ]
    }
   ],
   "source": [
    "model = cnn_mod()\n",
    "model = model.cuda()\n",
    "optimizer = torch.optim.Adam(model.parameters(), lr = 0.001)\n",
    "epochs = 20\n",
    "train_loss = []\n",
    "train_acc = []\n",
    "test_loss = []\n",
    "test_acc = []\n",
    "for epoch in range(epochs):\n",
    "    epoch_loss, epoch_acc, epoch_test_loss, epoch_test_acc = fit(epoch, model, train_loader, test_loader)\n",
    "    train_loss.append(epoch_loss)\n",
    "    train_acc.append(epoch_acc)\n",
    "    test_loss.append(epoch_test_loss)\n",
    "    test_acc.append(epoch_test_acc)"
   ]
  },
  {
   "cell_type": "code",
   "execution_count": null,
   "id": "e3c6b4c9",
   "metadata": {},
   "outputs": [],
   "source": []
  }
 ],
 "metadata": {
  "kernelspec": {
   "display_name": "Python 3 (ipykernel)",
   "language": "python",
   "name": "python3"
  },
  "language_info": {
   "codemirror_mode": {
    "name": "ipython",
    "version": 3
   },
   "file_extension": ".py",
   "mimetype": "text/x-python",
   "name": "python",
   "nbconvert_exporter": "python",
   "pygments_lexer": "ipython3",
   "version": "3.9.12"
  }
 },
 "nbformat": 4,
 "nbformat_minor": 5
}
